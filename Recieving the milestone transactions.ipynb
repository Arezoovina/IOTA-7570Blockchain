{
 "cells": [
  {
   "cell_type": "code",
   "execution_count": null,
   "metadata": {},
   "outputs": [],
   "source": [
    "import urllib2                    #adding the neccassary libraries that we need\n",
    "import json                             \n",
    "\n",
    "command = {\"command\": \"getNodeInfo\"}         #with this command we intend to get the node information\n",
    "\n",
    "stringified = json.dumps(command)                 #in this part a connection to the API will be established with json format\n",
    "\n",
    "headers = {\n",
    "    'content-type': 'application/json',             \n",
    "    'X-IOTA-API-Version': '1'\n",
    "}\n",
    "\n",
    "request = urllib2.Request(url=\"http://localhost:14265\", data=stringified, headers=headers)\n",
    "returnData = urllib2.urlopen(request).read()\n",
    "\n",
    "jsonData = json.loads(returnData)\n",
    "\n",
    "a = jsonData[\"latestMilestone\"]                               #we get the latestMilestone hash \n",
    "\n",
    "print a                                                        #we print it\n",
    "\n",
    "text_file = open(\"Output.txt\", \"w\")                           #we write it to a text file to use it in the next steps\n",
    "text_file.write(\"%s\" % a)\n",
    "text_file.close()\n",
    "\n",
    "                                                                 #Refrence: https://docs.iota.org/docs/hornet/1.1/references/api-reference#findtransactions\n",
    "\n",
    "\n"
   ]
  }
 ],
 "metadata": {
  "kernelspec": {
   "display_name": "Python 3",
   "language": "python",
   "name": "python3"
  },
  "language_info": {
   "codemirror_mode": {
    "name": "ipython",
    "version": 3
   },
   "file_extension": ".py",
   "mimetype": "text/x-python",
   "name": "python",
   "nbconvert_exporter": "python",
   "pygments_lexer": "ipython3",
   "version": "3.8.3"
  }
 },
 "nbformat": 4,
 "nbformat_minor": 4
}
